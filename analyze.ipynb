{
 "cells": [
  {
   "cell_type": "code",
   "execution_count": 1,
   "id": "d5e04924",
   "metadata": {},
   "outputs": [
    {
     "name": "stderr",
     "output_type": "stream",
     "text": [
      "/athenahomes/yashsb/miniforge3/envs/py3d/lib/python3.8/site-packages/torchvision/io/image.py:13: UserWarning: Failed to load image Python extension: '/athenahomes/yashsb/miniforge3/envs/py3d/lib/python3.8/site-packages/torchvision/image.so: undefined symbol: _ZN3c1017RegisterOperatorsD1Ev'If you don't plan on using image functionality from `torchvision.io`, you can ignore this warning. Otherwise, there might be something wrong with your environment. Did you have `libjpeg` or `libpng` installed before building `torchvision` from source?\n",
      "  warn(\n"
     ]
    }
   ],
   "source": [
    "# imports\n",
    "import torch\n",
    "from vggt.models.vggt import VGGT\n",
    "from vggt.utils.load_fn import load_and_preprocess_images\n",
    "\n",
    "device = \"cuda\" if torch.cuda.is_available() else \"cpu\"\n",
    "# bfloat16 is supported on Ampere GPUs (Compute Capability 8.0+) \n",
    "dtype = torch.bfloat16 if torch.cuda.get_device_capability()[0] >= 8 else torch.float16"
   ]
  },
  {
   "cell_type": "code",
   "execution_count": 2,
   "id": "7a003e02",
   "metadata": {},
   "outputs": [],
   "source": [
    "# model loading\n",
    "model = VGGT()\n",
    "_URL = \"https://huggingface.co/facebook/VGGT-1B/resolve/main/model.pt\"\n",
    "model.load_state_dict(torch.hub.load_state_dict_from_url(_URL))\n",
    "model = model.to(device)"
   ]
  },
  {
   "cell_type": "code",
   "execution_count": 3,
   "id": "234e7d3b",
   "metadata": {},
   "outputs": [],
   "source": [
    "# load images to run the model on:\n",
    "image_names = [f\"examples/kitchen/images/{i:02d}.png\" for i in range(0, 25, 5)]\n",
    "images = load_and_preprocess_images(image_names).to(device)"
   ]
  },
  {
   "cell_type": "code",
   "execution_count": null,
   "id": "509f27fd",
   "metadata": {},
   "outputs": [],
   "source": [
    "# cross-frame patch-to-patch attention matrix (with frame separators)\n",
    "from importlib import reload\n",
    "import vggt.utils.attn_capture as attn_capture\n",
    "reload(attn_capture)\n",
    "from vggt.utils.attn_capture import capture_and_save_patch_grid_attention\n",
    "\n",
    "image_set_name = \"kitchen\"\n",
    "\n",
    "# Downsample the patch grid for tractable visualization\n",
    "# stride_h/stride_w of 4 means we sample every 4th patch row/col\n",
    "saved_patchgrid = capture_and_save_patch_grid_attention(\n",
    "    model,\n",
    "    images,\n",
    "    image_set_name=image_set_name,\n",
    "    output_dir=\"attn_outputs\",\n",
    "    stride_h=4,\n",
    "    stride_w=4,\n",
    "    amp_dtype=dtype,\n",
    "    max_query_chunk=2048,\n",
    ")\n",
    "saved_patchgrid\n"
   ]
  },
  {
   "cell_type": "code",
   "execution_count": null,
   "id": "8dd262e9",
   "metadata": {},
   "outputs": [],
   "source": [
    "# reload updated attention capture module so changes take effect\n",
    "from importlib import reload\n",
    "import vggt.utils.attn_capture as attn_capture\n",
    "reload(attn_capture)\n",
    "from vggt.utils.attn_capture import capture_and_save_global_attention\n"
   ]
  },
  {
   "cell_type": "code",
   "execution_count": null,
   "id": "388fc12f",
   "metadata": {},
   "outputs": [],
   "source": [
    "# capture and save global attention maps\n",
    "from vggt.utils.attn_capture import capture_and_save_global_attention\n",
    "\n",
    "# choose a descriptive image set name\n",
    "image_set_name = \"kitchen\"\n",
    "\n",
    "# with torch.no_grad():\n",
    "#     with torch.cuda.amp.autocast(dtype=dtype):\n",
    "saved_paths = capture_and_save_global_attention(\n",
    "    model,\n",
    "    images,\n",
    "    image_set_name=image_set_name,\n",
    "    output_dir=\"attn_outputs\",\n",
    "    amp_dtype=dtype,\n",
    ")\n",
    "\n",
    "saved_paths\n"
   ]
  },
  {
   "cell_type": "code",
   "execution_count": null,
   "id": "b6120d15",
   "metadata": {},
   "outputs": [],
   "source": [
    "# first-to-all attention visualization (frame 0 queries to all frames' patches)\n",
    "from importlib import reload\n",
    "import vggt.utils.attn_capture as attn_capture\n",
    "reload(attn_capture)\n",
    "from vggt.utils.attn_capture import capture_and_save_first_to_all_attention\n",
    "\n",
    "image_set_name = \"kitchen\"\n",
    "\n",
    "saved_first2all = capture_and_save_first_to_all_attention(\n",
    "    model,\n",
    "    images,\n",
    "    image_set_name=image_set_name,\n",
    "    output_dir=\"attn_outputs_first2all\",\n",
    "    stride_h=1,\n",
    "    stride_w=1,\n",
    "    amp_dtype=dtype,\n",
    "    max_query_chunk=2048,\n",
    ")\n",
    "saved_first2all\n"
   ]
  },
  {
   "cell_type": "code",
   "execution_count": null,
   "id": "7ee7910e",
   "metadata": {},
   "outputs": [],
   "source": []
  }
 ],
 "metadata": {
  "kernelspec": {
   "display_name": "py3d",
   "language": "python",
   "name": "python3"
  },
  "language_info": {
   "codemirror_mode": {
    "name": "ipython",
    "version": 3
   },
   "file_extension": ".py",
   "mimetype": "text/x-python",
   "name": "python",
   "nbconvert_exporter": "python",
   "pygments_lexer": "ipython3",
   "version": "3.8.15"
  }
 },
 "nbformat": 4,
 "nbformat_minor": 5
}
